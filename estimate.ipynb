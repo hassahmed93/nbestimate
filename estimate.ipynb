{
 "cells": [
  {
   "cell_type": "code",
   "execution_count": 1,
   "metadata": {
    "execution": {
     "iopub.execute_input": "2022-06-16T05:13:20.157165Z",
     "iopub.status.busy": "2022-06-16T05:13:20.156870Z",
     "iopub.status.idle": "2022-06-16T05:13:20.171368Z",
     "shell.execute_reply": "2022-06-16T05:13:20.170674Z"
    }
   },
   "outputs": [
    {
     "data": {
      "text/markdown": [
       "# Estimate of Public Jupyter Notebooks on GitHub\n",
       "\n",
       "* [View the daily report notebook](https://github.com/parente/nbestimate/blob/master/estimate.ipynb)\n",
       "* [See the raw count data in a CSV](https://github.com/parente/nbestimate/blob/master/ipynb_counts.csv)\n",
       "\n",
       "## Data Collection History\n",
       "\n",
       "* Late-2014 to mid-2016: I wrote a script that scrapes the GitHub web search UI for the count,\n",
       "  appends to a CSV, executes a notebook, and stores the results in a gist at\n",
       "  https://gist.github.com/parente/facb555dfbae28e817e0. I scheduled the script to run daily.\n",
       "* Mid-2106 to Late-2016: The GitHub web search UI started requiring authentication to see global\n",
       "  search results. I stopped collecting data.\n",
       "* Late-2016 to early-2019: I rewrote the process to include a human-in-the-loop who entered the hit\n",
       "  count after viewing the search results page. I moved the CSV, notebook, and scripts to this repo,\n",
       "  and sporadically ran the script.\n",
       "* Early-2019: I found out that the GitHub search API now supports global search. I automated the\n",
       "  entire collection process again and set it to run on TravisCI on a daily schedule.\n",
       "* December 2020: [GitHub changed their code search index results](https://github.blog/changelog/2020-12-17-changes-to-code-search-indexing/)\n",
       "  to exclude repositories without activity for the past year. The ipynb search result count\n",
       "  dropped from nearly 10 million to 4.5 million `ipynb` files, stayed there for a day or so, and \n",
       "  then began climbing again from that new origin. \n",
       "* June 2021: I started collecting data again but disabled the notebook showing the historical and\n",
       "  predicted counts.\n",
       "* July 2021: I revived the notebook showing the historical counts but kept prediction disabled.\n",
       "\n",
       "## Assumptions\n",
       "\n",
       "* That the search query hits are less than or equal to the total number of `*.ipynb` files on GitHub.\n",
       "* That the result is **not** inflated due to GitHub forks.\n",
       "    * Evidence: We do not see the tutorial notebooks from the ipython/ipython GitHub repository \n",
       "      duplicated in the search results because of the 2,000+ forks of the ipython/ipython repo.\n",
       "* That the result **is** inflated a tiny bit by manually created duplicates of notebooks.\n",
       "    * Evidence: Some people seem to download their favorite notebooks and then upload them into \n",
       "      their own git repositories for safe keeping.\n"
      ],
      "text/plain": [
       "<IPython.core.display.Markdown object>"
      ]
     },
     "execution_count": 1,
     "metadata": {},
     "output_type": "execute_result"
    }
   ],
   "source": [
    "from IPython.display import Markdown\n",
    "Markdown(filename='README.md')"
   ]
  },
  {
   "cell_type": "code",
   "execution_count": 2,
   "metadata": {
    "execution": {
     "iopub.execute_input": "2022-06-16T05:13:20.239279Z",
     "iopub.status.busy": "2022-06-16T05:13:20.238646Z",
     "iopub.status.idle": "2022-06-16T05:13:21.490973Z",
     "shell.execute_reply": "2022-06-16T05:13:21.489979Z"
    },
    "urth": {
     "dashboard": {}
    }
   },
   "outputs": [],
   "source": [
    "%matplotlib inline"
   ]
  },
  {
   "cell_type": "code",
   "execution_count": 3,
   "metadata": {
    "execution": {
     "iopub.execute_input": "2022-06-16T05:13:21.495279Z",
     "iopub.status.busy": "2022-06-16T05:13:21.494518Z",
     "iopub.status.idle": "2022-06-16T05:13:21.800735Z",
     "shell.execute_reply": "2022-06-16T05:13:21.799741Z"
    },
    "urth": {
     "dashboard": {}
    }
   },
   "outputs": [],
   "source": [
    "import datetime\n",
    "import matplotlib as mpl\n",
    "import matplotlib.pyplot as plt\n",
    "import numpy as np\n",
    "import pandas as pd\n",
    "import requests"
   ]
  },
  {
   "cell_type": "code",
   "execution_count": 4,
   "metadata": {
    "execution": {
     "iopub.execute_input": "2022-06-16T05:13:21.806051Z",
     "iopub.status.busy": "2022-06-16T05:13:21.805682Z",
     "iopub.status.idle": "2022-06-16T05:13:21.809743Z",
     "shell.execute_reply": "2022-06-16T05:13:21.809163Z"
    },
    "urth": {
     "dashboard": {}
    }
   },
   "outputs": [],
   "source": [
    "mpl.style.use('ggplot')\n",
    "figsize = (14,7)"
   ]
  },
  {
   "cell_type": "code",
   "execution_count": 5,
   "metadata": {
    "execution": {
     "iopub.execute_input": "2022-06-16T05:13:21.812820Z",
     "iopub.status.busy": "2022-06-16T05:13:21.812562Z",
     "iopub.status.idle": "2022-06-16T05:13:21.816572Z",
     "shell.execute_reply": "2022-06-16T05:13:21.815895Z"
    }
   },
   "outputs": [
    {
     "name": "stdout",
     "output_type": "stream",
     "text": [
      "This notebook was last rendered at 2022-06-16 05:13:21.813809 UTC\n"
     ]
    }
   ],
   "source": [
    "now = datetime.datetime.utcnow()\n",
    "print(f'This notebook was last rendered at {now} UTC')"
   ]
  },
  {
   "cell_type": "markdown",
   "metadata": {
    "urth": {
     "dashboard": {
      "hidden": true
     }
    }
   },
   "source": [
    "First, let's load the historical data into a DataFrame indexed by date."
   ]
  },
  {
   "cell_type": "code",
   "execution_count": 6,
   "metadata": {
    "execution": {
     "iopub.execute_input": "2022-06-16T05:13:21.820875Z",
     "iopub.status.busy": "2022-06-16T05:13:21.820611Z",
     "iopub.status.idle": "2022-06-16T05:13:21.832787Z",
     "shell.execute_reply": "2022-06-16T05:13:21.832094Z"
    },
    "urth": {
     "dashboard": {}
    }
   },
   "outputs": [],
   "source": [
    "hits_df = pd.read_csv('ipynb_counts.csv', index_col=0, header=0, parse_dates=True)\n",
    "hits_df.reset_index(inplace=True)\n",
    "hits_df.drop_duplicates(subset='date', inplace=True)\n",
    "hits_df.set_index('date', inplace=True)\n",
    "hits_df.sort_index(ascending=True, inplace=True)"
   ]
  },
  {
   "cell_type": "code",
   "execution_count": 7,
   "metadata": {
    "execution": {
     "iopub.execute_input": "2022-06-16T05:13:21.835891Z",
     "iopub.status.busy": "2022-06-16T05:13:21.835634Z",
     "iopub.status.idle": "2022-06-16T05:13:21.842951Z",
     "shell.execute_reply": "2022-06-16T05:13:21.842179Z"
    },
    "urth": {
     "dashboard": {
      "hidden": true
     }
    }
   },
   "outputs": [
    {
     "data": {
      "text/html": [
       "<div>\n",
       "<style scoped>\n",
       "    .dataframe tbody tr th:only-of-type {\n",
       "        vertical-align: middle;\n",
       "    }\n",
       "\n",
       "    .dataframe tbody tr th {\n",
       "        vertical-align: top;\n",
       "    }\n",
       "\n",
       "    .dataframe thead th {\n",
       "        text-align: right;\n",
       "    }\n",
       "</style>\n",
       "<table border=\"1\" class=\"dataframe\">\n",
       "  <thead>\n",
       "    <tr style=\"text-align: right;\">\n",
       "      <th></th>\n",
       "      <th>hits</th>\n",
       "    </tr>\n",
       "    <tr>\n",
       "      <th>date</th>\n",
       "      <th></th>\n",
       "    </tr>\n",
       "  </thead>\n",
       "  <tbody>\n",
       "    <tr>\n",
       "      <th>2022-06-14</th>\n",
       "      <td>8717756</td>\n",
       "    </tr>\n",
       "    <tr>\n",
       "      <th>2022-06-15</th>\n",
       "      <td>8729817</td>\n",
       "    </tr>\n",
       "    <tr>\n",
       "      <th>2022-06-16</th>\n",
       "      <td>8739046</td>\n",
       "    </tr>\n",
       "  </tbody>\n",
       "</table>\n",
       "</div>"
      ],
      "text/plain": [
       "               hits\n",
       "date               \n",
       "2022-06-14  8717756\n",
       "2022-06-15  8729817\n",
       "2022-06-16  8739046"
      ]
     },
     "execution_count": 7,
     "metadata": {},
     "output_type": "execute_result"
    }
   ],
   "source": [
    "hits_df.tail(3)"
   ]
  },
  {
   "cell_type": "markdown",
   "metadata": {
    "urth": {
     "dashboard": {
      "hidden": true
     }
    }
   },
   "source": [
    "There might be missing counts for days that we failed to sample. We build up the expected date range and insert NaNs for dates we missed."
   ]
  },
  {
   "cell_type": "code",
   "execution_count": 8,
   "metadata": {
    "execution": {
     "iopub.execute_input": "2022-06-16T05:13:21.846108Z",
     "iopub.status.busy": "2022-06-16T05:13:21.845885Z",
     "iopub.status.idle": "2022-06-16T05:13:21.849625Z",
     "shell.execute_reply": "2022-06-16T05:13:21.848996Z"
    },
    "urth": {
     "dashboard": {}
    }
   },
   "outputs": [],
   "source": [
    "til_today = pd.date_range(hits_df.index[0], hits_df.index[-1])"
   ]
  },
  {
   "cell_type": "code",
   "execution_count": 9,
   "metadata": {
    "execution": {
     "iopub.execute_input": "2022-06-16T05:13:21.852273Z",
     "iopub.status.busy": "2022-06-16T05:13:21.852019Z",
     "iopub.status.idle": "2022-06-16T05:13:21.856119Z",
     "shell.execute_reply": "2022-06-16T05:13:21.855368Z"
    },
    "urth": {
     "dashboard": {}
    }
   },
   "outputs": [],
   "source": [
    "hits_df = hits_df.reindex(til_today)"
   ]
  },
  {
   "cell_type": "markdown",
   "metadata": {
    "urth": {
     "dashboard": {
      "hidden": true
     }
    }
   },
   "source": [
    "Now we plot the known notebook counts."
   ]
  },
  {
   "cell_type": "code",
   "execution_count": 10,
   "metadata": {
    "execution": {
     "iopub.execute_input": "2022-06-16T05:13:21.859235Z",
     "iopub.status.busy": "2022-06-16T05:13:21.858997Z",
     "iopub.status.idle": "2022-06-16T05:13:22.047587Z",
     "shell.execute_reply": "2022-06-16T05:13:22.046824Z"
    }
   },
   "outputs": [
    {
     "data": {
      "image/png": "[encoded data removed]",
      "text/plain": [
       "<Figure size 1008x504 with 1 Axes>"
      ]
     },
     "metadata": {},
     "output_type": "display_data"
    }
   ],
   "source": [
    "fig, ax = plt.subplots(figsize=figsize)\n",
    "ax.set_title(f'GitHub search hits for {len(hits_df)} days')\n",
    "ax.plot(hits_df.hits, 'ko', markersize=1, label='hits')\n",
    "ax.legend(loc='upper left')\n",
    "ax.set_xlabel('Date')\n",
    "ax.set_ylabel('# of ipynb files');"
   ]
  },
  {
   "cell_type": "markdown",
   "metadata": {},
   "source": [
    "Growth appears exponential until December 2020, at which point the count dropped suddenly and resumed growth from a new origin."
   ]
  },
  {
   "cell_type": "markdown",
   "metadata": {},
   "source": [
    "The total change in the number of `*.ipynb` hits between the first day we have data and today is:"
   ]
  },
  {
   "cell_type": "code",
   "execution_count": 11,
   "metadata": {
    "execution": {
     "iopub.execute_input": "2022-06-16T05:13:22.051555Z",
     "iopub.status.busy": "2022-06-16T05:13:22.051135Z",
     "iopub.status.idle": "2022-06-16T05:13:22.060416Z",
     "shell.execute_reply": "2022-06-16T05:13:22.059784Z"
    },
    "urth": {
     "dashboard": {
      "hidden": true
     }
    }
   },
   "outputs": [
    {
     "data": {
      "text/plain": [
       "hits    8673198.0\n",
       "dtype: float64"
      ]
     },
     "execution_count": 11,
     "metadata": {},
     "output_type": "execute_result"
    }
   ],
   "source": [
    "total_delta_nbs = hits_df.iloc[-1] - hits_df.iloc[0]\n",
    "total_delta_nbs"
   ]
  },
  {
   "cell_type": "markdown",
   "metadata": {
    "urth": {
     "dashboard": {
      "hidden": true
     }
    }
   },
   "source": [
    "The mean daily change for the entire duration is:"
   ]
  },
  {
   "cell_type": "code",
   "execution_count": 12,
   "metadata": {
    "execution": {
     "iopub.execute_input": "2022-06-16T05:13:22.064974Z",
     "iopub.status.busy": "2022-06-16T05:13:22.063551Z",
     "iopub.status.idle": "2022-06-16T05:13:22.071599Z",
     "shell.execute_reply": "2022-06-16T05:13:22.070927Z"
    },
    "urth": {
     "dashboard": {
      "hidden": true
     }
    }
   },
   "outputs": [
    {
     "data": {
      "text/plain": [
       "hits    3086.547331\n",
       "dtype: float64"
      ]
     },
     "execution_count": 12,
     "metadata": {},
     "output_type": "execute_result"
    }
   ],
   "source": [
    "avg_delta_nbs = total_delta_nbs / len(hits_df)\n",
    "avg_delta_nbs"
   ]
  },
  {
   "cell_type": "markdown",
   "metadata": {
    "urth": {
     "dashboard": {
      "hidden": true
     }
    }
   },
   "source": [
    "The change in hit count between any two consecutive days for which we have data looks like the following:"
   ]
  },
  {
   "cell_type": "code",
   "execution_count": 13,
   "metadata": {
    "execution": {
     "iopub.execute_input": "2022-06-16T05:13:22.075515Z",
     "iopub.status.busy": "2022-06-16T05:13:22.075130Z",
     "iopub.status.idle": "2022-06-16T05:13:22.080356Z",
     "shell.execute_reply": "2022-06-16T05:13:22.079680Z"
    },
    "urth": {
     "dashboard": {}
    }
   },
   "outputs": [],
   "source": [
    "daily_deltas = (hits_df.hits - hits_df.hits.shift())"
   ]
  },
  {
   "cell_type": "code",
   "execution_count": 14,
   "metadata": {
    "execution": {
     "iopub.execute_input": "2022-06-16T05:13:22.083897Z",
     "iopub.status.busy": "2022-06-16T05:13:22.083488Z",
     "iopub.status.idle": "2022-06-16T05:13:22.394372Z",
     "shell.execute_reply": "2022-06-16T05:13:22.393282Z"
    }
   },
   "outputs": [
    {
     "data": {
      "image/png": "[encoded data removed]",
      "text/plain": [
       "<Figure size 1008x504 with 1 Axes>"
      ]
     },
     "metadata": {},
     "output_type": "display_data"
    }
   ],
   "source": [
    "fig, ax = plt.subplots(figsize=figsize)\n",
    "ax.plot(daily_deltas, 'ko', markersize=2)\n",
    "ax.set_xlabel('Date')\n",
    "ax.set_ylabel('$\\Delta$ # of ipynb files')\n",
    "ax.set_title('Day-to-Day Change');"
   ]
  },
  {
   "cell_type": "markdown",
   "metadata": {},
   "source": [
    "The large jumps in the data are from GitHub reporting drastically different counts from one day to the next.\n",
    "\n",
    "Let's drop outliers defined as values more than two standard deviations away from a centered 90 day rolling mean."
   ]
  },
  {
   "cell_type": "code",
   "execution_count": 15,
   "metadata": {
    "execution": {
     "iopub.execute_input": "2022-06-16T05:13:22.399770Z",
     "iopub.status.busy": "2022-06-16T05:13:22.399187Z",
     "iopub.status.idle": "2022-06-16T05:13:22.408437Z",
     "shell.execute_reply": "2022-06-16T05:13:22.407626Z"
    }
   },
   "outputs": [
    {
     "data": {
      "text/plain": [
       "False    2740\n",
       "True       70\n",
       "Name: hits, dtype: int64"
      ]
     },
     "execution_count": 15,
     "metadata": {},
     "output_type": "execute_result"
    }
   ],
   "source": [
    "daily_delta_rolling = daily_deltas.rolling(window=90, min_periods=0, center=True)\n",
    "outliers = abs(daily_deltas - daily_delta_rolling.mean()) > 2*daily_delta_rolling.std()\n",
    "outliers.value_counts()"
   ]
  },
  {
   "cell_type": "code",
   "execution_count": 16,
   "metadata": {
    "execution": {
     "iopub.execute_input": "2022-06-16T05:13:22.412104Z",
     "iopub.status.busy": "2022-06-16T05:13:22.411391Z",
     "iopub.status.idle": "2022-06-16T05:13:22.417210Z",
     "shell.execute_reply": "2022-06-16T05:13:22.416180Z"
    }
   },
   "outputs": [],
   "source": [
    "cleaned_hits_df = hits_df.copy()\n",
    "cleaned_hits_df[outliers] = np.NaN\n",
    "cleaned_daily_deltas = (cleaned_hits_df.hits - cleaned_hits_df.hits.shift())"
   ]
  },
  {
   "cell_type": "code",
   "execution_count": 17,
   "metadata": {
    "execution": {
     "iopub.execute_input": "2022-06-16T05:13:22.421026Z",
     "iopub.status.busy": "2022-06-16T05:13:22.420518Z",
     "iopub.status.idle": "2022-06-16T05:13:22.612643Z",
     "shell.execute_reply": "2022-06-16T05:13:22.611810Z"
    }
   },
   "outputs": [
    {
     "data": {
      "image/png": "[encoded data removed]",
      "text/plain": [
       "<Figure size 1008x504 with 1 Axes>"
      ]
     },
     "metadata": {},
     "output_type": "display_data"
    }
   ],
   "source": [
    "fig, ax = plt.subplots(figsize=figsize)\n",
    "ax.plot(cleaned_daily_deltas, 'ko', markersize=2)\n",
    "ax.set_xlabel('Date')\n",
    "ax.set_ylabel('$\\Delta$ # of ipynb files')\n",
    "ax.set_title('Day-to-Day Change Sans Outliers');"
   ]
  }
 ],
 "metadata": {
  "kernelspec": {
   "display_name": "Python 3 (ipykernel)",
   "language": "python",
   "name": "python3"
  },
  "language_info": {
   "codemirror_mode": {
    "name": "ipython",
    "version": 3
   },
   "file_extension": ".py",
   "mimetype": "text/x-python",
   "name": "python",
   "nbconvert_exporter": "python",
   "pygments_lexer": "ipython3",
   "version": "3.10.4"
  },
  "urth": {
   "dashboard": {
    "cellMargin": 10,
    "defaultCellHeight": 20,
    "layoutStrategy": "packed",
    "maxColumns": 12
   }
  }
 },
 "nbformat": 4,
 "nbformat_minor": 4
}
